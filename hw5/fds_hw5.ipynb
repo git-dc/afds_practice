{
 "cells": [
  {
   "cell_type": "code",
   "execution_count": 33,
   "metadata": {
    "scrolled": false
   },
   "outputs": [],
   "source": [
    "# AFDS Homework 5 --- Daniel Chirita (dc3316) --- April 5, 2019\n",
    "\n",
    "# Problem 3 \n",
    "\n",
    "\n",
    "## packages: \n",
    "import string, random\n",
    "from tqdm import tnrange\n",
    "from tqdm import tqdm_notebook as tqdm\n",
    "from collections import deque\n",
    "\n",
    "## helper functions:\n",
    "def wordStream (fileName, sample_size=-1):\n",
    "    wordcount = 0\n",
    "    with open (fileName, 'r') as infile:\n",
    "        for line in infile:\n",
    "            for w in line.strip().lower().split():\n",
    "                z = 0\n",
    "                for c in w.strip (string.punctuation):\n",
    "                    z = (z<<8) | ord(c)\n",
    "                yield z\n",
    "                wordcount +=1\n",
    "            sample_size -= 1\n",
    "            if sample_size == 0: break\n",
    "#         print('total word count:', wordcount) # 1095695\n",
    "# print('distinct words in big.txt:', countDistinct(wordStream('big.txt'))) # 38369\n",
    "\n",
    "def shingleStream (fileName, shingle_size=9, sample_size=-1):\n",
    "    shinglecount = 0\n",
    "    with open (fileName, 'r') as infile:\n",
    "        shingle = deque()\n",
    "        for i in range(shingle_size):\n",
    "            shingle.append(infile.read(1))\n",
    "        z = 0\n",
    "        for c in ''.join([i for i in shingle]):\n",
    "            z = (z<<8) | ord(c)\n",
    "        shinglecount += 1\n",
    "        sample_size -= 1\n",
    "        yield z\n",
    "        \n",
    "        while True:\n",
    "            newChar = infile.read(1)\n",
    "            if newChar == '\\n': continue\n",
    "            if newChar == '': break\n",
    "            shingle.append(newChar)\n",
    "            shingle.popleft()\n",
    "            shinglecount +=1\n",
    "            z = 0\n",
    "            for c in ''.join([i for i in shingle]):\n",
    "                z = (z<<8) | ord(c)\n",
    "            yield z\n",
    "            \n",
    "            sample_size -= 1\n",
    "            if sample_size == 0: break\n",
    "#         print('total shingle count:', shinglecount) # 6360200\n",
    "# print('distinct 9-shingles in big.txt:', countDistinct(shingleStream('big.txt',9))) # 2806810\n",
    "                \n",
    "def countDistinct (stream):\n",
    "    M = {}\n",
    "    for x in stream: M[x] = 1\n",
    "    return len(M.keys())\n",
    "    # distinct words in big.txt: 38369\n",
    "    # distinct 9-shingles in big.txt: 2806810\n",
    "    \n",
    "def median (vals):\n",
    "    return sorted(vals)[int(len(vals)/2)]\n",
    "\n",
    "def mean (vals):\n",
    "    return round(sum(vals)/len(vals))\n",
    "\n",
    "def harmonic_mean (vals):\n",
    "    return round(len(vals)/sum([i**-1 for i in vals]))\n",
    "\n",
    "def sd (true_val, estimate):\n",
    "    return round((true_val - estimate)**2 / true_val)\n",
    "\n",
    "def perc_error (true_val, estimate):\n",
    "    return round(100*abs(true_val - estimate)/true_val,2)\n",
    "\n",
    "def hyperLogLog (vals):\n",
    "    return round(len(vals)**2 / sum([i**-1 for i in vals]))"
   ]
  },
  {
   "cell_type": "markdown",
   "metadata": {},
   "source": [
    "### Task:\n",
    "Write a function FM estimates which takes as input the stream and a number r denoting the required number of estimates and returns an array of independent estimates $[z_0 , z_1 , · · · , z_{r-1} ]$. There are several ways of combining the estimates to obtain a final estimate. Note that each $z_i$ represents an estimate of $2^{z_i}$ by the FM algorithm. Try the following ways of combining the estimates and state which seems to be the best:\n",
    "\n",
    "| Estimate                        | Expression of estimate in terms of $z_i$       |\n",
    "|---------------------------------|------------------------------------------------|\n",
    "| Mean of the estimates           |$(2^{z_0} + · · · + 2^{z_99} )/100$.            |\n",
    "| Median of the estimates         |$median\\{2^{z_0}, · · · , 2^{z_{99}}\\}$.        |\n",
    "| Harmonic mean of the estimates  |$100/(2^{-z_0} + · · · + 2^{-z_{99}})$.         |\n",
    "| HyperLogLog                     |$10000/(2^{-z_0} + · · · + 2^{-z_{99}})$        |"
   ]
  },
  {
   "cell_type": "code",
   "execution_count": 6,
   "metadata": {},
   "outputs": [],
   "source": [
    "## FM_estimates:\n",
    "\n",
    "def FM_estimates(stream, r): \n",
    "    '''\n",
    "    r is the number of estimates to be made\n",
    "    '''\n",
    "    p = 9576890767 # large prime\n",
    "    m = 2**32\n",
    "    \n",
    "    # generate a_i's and b_i's for r random hash fns\n",
    "    a = [random.randint(1,p) for i in range(r)]\n",
    "    b = [random.randint(0,p) for i in range(r)]\n",
    "    z = [0 for i in range(r)]\n",
    "    \n",
    "    for word in tqdm(stream,total=1095695):\n",
    "        for i in range(r):\n",
    "            # random hash of word\n",
    "            h = bin(((a[i] * (word % p) + b[i]) % p) % m)\n",
    "            if h != bin(0):\n",
    "                z[i] = max(z[i],str(h)[::-1].index('1')) \n",
    "    return z\n",
    "            "
   ]
  },
  {
   "cell_type": "code",
   "execution_count": 65,
   "metadata": {},
   "outputs": [
    {
     "data": {
      "application/vnd.jupyter.widget-view+json": {
       "model_id": "9de5db208a7e470ab211c51aea7ae30f",
       "version_major": 2,
       "version_minor": 0
      },
      "text/plain": [
       "HBox(children=(IntProgress(value=0, max=1095695), HTML(value='')))"
      ]
     },
     "metadata": {},
     "output_type": "display_data"
    },
    {
     "name": "stdout",
     "output_type": "stream",
     "text": [
      "[8192, 65536, 8192, 262144, 32768, 32768, 8192, 262144, 32768, 131072, 131072, 16384, 32768, 131072, 32768, 131072, 524288, 524288, 262144, 8192, 8192, 32768, 32768, 32768, 32768, 65536, 32768, 32768, 32768, 262144, 16384, 262144, 32768, 16384, 262144, 8192, 32768, 16384, 32768, 32768, 16384, 8192, 131072, 32768, 32768, 32768, 131072, 131072, 65536, 32768, 65536, 8192, 524288, 32768, 16384, 524288, 16384, 262144, 32768, 262144, 32768, 16384, 524288, 65536, 32768, 32768, 32768, 16384, 65536, 32768, 16384, 32768, 16384, 8192, 1048576, 32768, 16384, 16384, 32768, 8192, 32768, 32768, 8192, 65536, 1048576, 262144, 65536, 32768, 262144, 32768, 32768, 131072, 32768, 16384, 131072, 16384, 65536, 65536, 524288, 262144] 100\n"
     ]
    }
   ],
   "source": [
    "stream = wordStream('big.txt')\n",
    "estimates = [2**z for z in FM_estimates(stream,100)] # 148 sec\n",
    "estimates = [i for i in estimates if i!=1]\n",
    "print(estimates, len(estimates))"
   ]
  },
  {
   "cell_type": "code",
   "execution_count": 66,
   "metadata": {},
   "outputs": [
    {
     "name": "stdout",
     "output_type": "stream",
     "text": [
      "mean:          114770, error: 199.12%\n",
      "median:        32768, error: 14.6%\n",
      "harmonic mean: 27522, error: 28.27%\n",
      "hyperLogLog:   2752168, error: 7072.89%\n"
     ]
    }
   ],
   "source": [
    "print(f'mean:          {mean(estimates)}, error: {perc_error(38369,mean(estimates))}%')\n",
    "print(f'median:        {median(estimates)}, error: {perc_error(38369,median(estimates))}%')\n",
    "print(f'harmonic mean: {harmonic_mean(estimates)}, error: {perc_error(38369,harmonic_mean(estimates))}%')\n",
    "print(f'hyperLogLog:   {hyperLogLog(estimates)}, error: {perc_error(38369,hyperLogLog(estimates))}%')"
   ]
  },
  {
   "cell_type": "markdown",
   "metadata": {},
   "source": [
    "### Results\n",
    "\n",
    "Median seems to perform best.\n",
    "\n",
    "| Method        | Result  | % Error  |\n",
    "|---------------|---------|----------|\n",
    "| Mean          | 114770  | 199.12%  |\n",
    "| Median        | 32768   | 14.6%    |\n",
    "| Harmonic mean | 27522   | 28.27%   |\n",
    "| HyperLogLog   | 2752168 | 7072.89% |\n",
    "\n",
    "True count of distinct words in big.txt: 38369"
   ]
  },
  {
   "cell_type": "code",
   "execution_count": 81,
   "metadata": {},
   "outputs": [],
   "source": [
    "# using stochastic averaging:\n",
    "\n",
    "def stoch_FM_estimates(stream, r): \n",
    "    '''\n",
    "    2^r is the number of groups to be made\n",
    "    '''\n",
    "    p = 9576890767 # large prime\n",
    "    m = 2**33\n",
    "    \n",
    "    # generate a and b for a random hash fn\n",
    "    a = random.randint(1,p)\n",
    "    b = random.randint(0,p)\n",
    "    z = [0 for i in range(2**r)]\n",
    "    \n",
    "    for shingle in tqdm(stream,total=6360201):\n",
    "        # random hash of shingle\n",
    "        h = bin(((a * (shingle % p) + b) % p) % m)\n",
    "        hstr = str(h)[2:]\n",
    "        group = hstr[:r]\n",
    "#         print(h,group)\n",
    "        val = hstr[r:]\n",
    "\n",
    "        if bin(int(val,2)) != bin(0):\n",
    "            z[int(group,2)] = max(z[int(group,2)],val[::-1].index('1')) \n",
    "    return z"
   ]
  },
  {
   "cell_type": "code",
   "execution_count": 82,
   "metadata": {},
   "outputs": [
    {
     "data": {
      "application/vnd.jupyter.widget-view+json": {
       "model_id": "015a23d3bd284c9e81a10f6bf78840ad",
       "version_major": 2,
       "version_minor": 0
      },
      "text/plain": [
       "HBox(children=(IntProgress(value=0, max=6360201), HTML(value='')))"
      ]
     },
     "metadata": {},
     "output_type": "display_data"
    }
   ],
   "source": [
    "stream = shingleStream('big.txt')\n",
    "# I kept seeing 0's for the first 32 estimates, checked the hash values and the first bit seems to invariably be 1. Effectively, an r value of 6 results in 32 estimates instead of 64. So I increased m to be 2**33 and r to 7.\n",
    "estimates = list(stoch_FM_estimates(stream,7)) # 34 sec\n",
    "estimates = [2**z for z in estimates]"
   ]
  },
  {
   "cell_type": "code",
   "execution_count": 83,
   "metadata": {},
   "outputs": [
    {
     "name": "stdout",
     "output_type": "stream",
     "text": [
      "[1, 1, 1, 1, 1, 1, 1, 1, 1, 1, 1, 1, 1, 1, 1, 1, 1, 1, 1, 1, 1, 1, 1, 1, 1, 1, 1, 1, 1, 1, 1, 1, 1, 1, 1, 1, 1, 1, 1, 1, 1, 1, 1, 1, 1, 1, 1, 1, 1, 1, 1, 1, 1, 1, 1, 1, 1, 1, 1, 1, 1, 1, 1, 1, 131072, 16384, 1048576, 16384, 65536, 16384, 16384, 65536, 262144, 32768, 16384, 8192, 32768, 32768, 32768, 65536, 131072, 65536, 32768, 32768, 32768, 131072, 131072, 65536, 16384, 65536, 32768, 32768, 131072, 524288, 131072, 32768, 524288, 1048576, 16384, 65536, 65536, 16384, 65536, 16384, 32768, 131072, 32768, 65536, 32768, 32768, 16384, 16384, 32768, 4194304, 16384, 32768, 131072, 524288, 65536, 32768, 16384, 16384, 32768, 32768, 32768, 65536, 16384, 16384] 128\n",
      "[131072, 16384, 1048576, 16384, 65536, 16384, 16384, 65536, 262144, 32768, 16384, 8192, 32768, 32768, 32768, 65536, 131072, 65536, 32768, 32768, 32768, 131072, 131072, 65536, 16384, 65536, 32768, 32768, 131072, 524288, 131072, 32768, 524288, 1048576, 16384, 65536, 65536, 16384, 65536, 16384, 32768, 131072, 32768, 65536, 32768, 32768, 16384, 16384, 32768, 4194304, 16384, 32768, 131072, 524288, 65536, 32768, 16384, 16384, 32768, 32768, 32768, 65536, 16384, 16384] 64\n"
     ]
    }
   ],
   "source": [
    "print(estimates, len(estimates))\n",
    "'''\n",
    "Out: [1, 1, 1, 1, 1, 1, 1, 1, 1, 1, 1, 1, 1, 1, 1, 1, 1, 1, 1, 1, 1, 1, 1, 1, 1, 1, 1, 1, 1, 1, 1, 1, 1, 1, 1, 1, 1, 1, 1, 1, 1, 1, 1, 1, 1, 1, 1, 1, 1, 1, 1, 1, 1, 1, 1, 1, 1, 1, 1, 1, 1, 1, 1, 1, 131072, 16384, 1048576, 16384, 65536, 16384, 16384, 65536, 262144, 32768, 16384, 8192, 32768, 32768, 32768, 65536, 131072, 65536, 32768, 32768, 32768, 131072, 131072, 65536, 16384, 65536, 32768, 32768, 131072, 524288, 131072, 32768, 524288, 1048576, 16384, 65536, 65536, 16384, 65536, 16384, 32768, 131072, 32768, 65536, 32768, 32768, 16384, 16384, 32768, 4194304, 16384, 32768, 131072, 524288, 65536, 32768, 16384, 16384, 32768, 32768, 32768, 65536, 16384, 16384] 128\n",
    "'''\n",
    "estimates = [i for i in estimates if i!=1] # first bit is always 1, so only second half of estimates is > 1 \n",
    "print(estimates, len(estimates))\n",
    "'''\n",
    "Out: [131072, 16384, 1048576, 16384, 65536, 16384, 16384, 65536, 262144, 32768, 16384, 8192, 32768, 32768, 32768, 65536, 131072, 65536, 32768, 32768, 32768, 131072, 131072, 65536, 16384, 65536, 32768, 32768, 131072, 524288, 131072, 32768, 524288, 1048576, 16384, 65536, 65536, 16384, 65536, 16384, 32768, 131072, 32768, 65536, 32768, 32768, 16384, 16384, 32768, 4194304, 16384, 32768, 131072, 524288, 65536, 32768, 16384, 16384, 32768, 32768, 32768, 65536, 16384, 16384] 64\n",
    "'''"
   ]
  },
  {
   "cell_type": "code",
   "execution_count": 84,
   "metadata": {},
   "outputs": [
    {
     "name": "stdout",
     "output_type": "stream",
     "text": [
      "mean:          170112, error: 93.94%\n",
      "median:        32768, error: 98.83%\n",
      "harmonic mean: 32573, error: 98.84%\n",
      "hyperLogLog:   2084683, error: 25.73%\n"
     ]
    }
   ],
   "source": [
    "print(f'mean:          {mean(estimates)}, error: {perc_error(2806810,mean(estimates))}%')\n",
    "print(f'median:        {median(estimates)}, error: {perc_error(2806810,median(estimates))}%')\n",
    "print(f'harmonic mean: {harmonic_mean(estimates)}, error: {perc_error(2806810,harmonic_mean(estimates))}%')\n",
    "print(f'hyperLogLog:   {hyperLogLog(estimates)}, error: {perc_error(2806810,hyperLogLog(estimates))}%')"
   ]
  },
  {
   "cell_type": "markdown",
   "metadata": {},
   "source": [
    "### Results\n",
    "\n",
    "HyperLogLog outperforms other methods of estimate combination:\n",
    "\n",
    "| Method        | Result     | % Error  |\n",
    "|---------------|------------|----------|\n",
    "| Mean          | 170112     | 93.94%   |\n",
    "| Median        | 32768      | 98.83%   |\n",
    "| Harmonic Mean | 32573      | 98.84%   |\n",
    "| hyperLogLog   | 2084683    | 25.73%   |\n",
    "\n",
    "True count of distinct 9-shingles in big.txt is 2806810."
   ]
  },
  {
   "cell_type": "code",
   "execution_count": null,
   "metadata": {},
   "outputs": [],
   "source": []
  }
 ],
 "metadata": {
  "kernelspec": {
   "display_name": "Python 3",
   "language": "python",
   "name": "python3"
  },
  "language_info": {
   "codemirror_mode": {
    "name": "ipython",
    "version": 3
   },
   "file_extension": ".py",
   "mimetype": "text/x-python",
   "name": "python",
   "nbconvert_exporter": "python",
   "pygments_lexer": "ipython3",
   "version": "3.7.1"
  }
 },
 "nbformat": 4,
 "nbformat_minor": 2
}
