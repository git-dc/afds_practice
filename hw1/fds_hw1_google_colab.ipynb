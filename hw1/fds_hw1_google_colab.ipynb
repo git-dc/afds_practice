{
 "cells": [
  {
   "cell_type": "code",
   "execution_count": 0,
   "metadata": {
    "colab": {},
    "colab_type": "code",
    "id": "x_hTANCQkqRJ"
   },
   "outputs": [],
   "source": [
    "import numpy as np\n",
    "import matplotlib.pyplot as plt"
   ]
  },
  {
   "cell_type": "code",
   "execution_count": 43,
   "metadata": {
    "colab": {
     "base_uri": "https://localhost:8080/",
     "height": 380
    },
    "colab_type": "code",
    "executionInfo": {
     "elapsed": 633,
     "status": "ok",
     "timestamp": 1551108737680,
     "user": {
      "displayName": "Daniel Chirita",
      "photoUrl": "",
      "userId": "03327998290993072627"
     },
     "user_tz": -240
    },
    "id": "3_oDmIm1j_cP",
    "outputId": "e7870e8f-f7db-45c5-99f4-7d0ca44b8234"
   },
   "outputs": [
    {
     "data": {
      "image/png": "[encoded data removed]",
      "text/plain": [
       "<Figure size 576x396 with 1 Axes>"
      ]
     },
     "metadata": {
      "tags": []
     },
     "output_type": "display_data"
    },
    {
     "name": "stdout",
     "output_type": "stream",
     "text": [
      ".\n"
     ]
    }
   ],
   "source": [
    "# Problem 1:\n",
    "rbvals = [(1,1),(2,2),(5,5),(1,5),(5,1),(5,20)]\n",
    "rbvals04 = [(5,60),(3,10)] # vals for r and b that give max slope at x=0.4\n",
    "rbvals085 = [(13,7),(25,60)]\n",
    "'''\n",
    "Experiment with different values of r and b to determine a pair of (not too \n",
    "large) positive integers r and b so that the function f (x) has the maximum \n",
    "slope around x = 0.4.\n",
    "'''\n",
    "\n",
    "r,b=rbvals04[0]\n",
    "r,b=rbvals085[0]\n",
    "x = np.linspace(0,1); f = 1-(1-x**r)**b; \n",
    "# max slope at x=0.4 for r=5, b=60 or r=3, b=10\n",
    "plt.title('r=%d,b=%d' % (r,b)); plt.plot(x,f,'r.',0.85,0.5,'b.'); plt.show() \n",
    "\n",
    "'''\n",
    "Plot the function f (x) = 1−(1−x r ) b for \n",
    "(r, b) ∈ {(1, 1), (2, 2), (5, 5), (1, 5), (5, 1), (5, 20)} and x ∈ [0, 1]. \n",
    "Plot the six functions obtained for the different values of r and b as subplots \n",
    "of the same figure.\n",
    "'''\n",
    "\n",
    "print('.')\n",
    "# for val in rbvals:\n",
    "#     r,b=val\n",
    "#     f = 1-(1-x**r)**b  \n",
    "#     plt.title(\"r=%d,b=%d\"% (r, b))\n",
    "#     plt.plot(x,f); plt.show()"
   ]
  },
  {
   "cell_type": "code",
   "execution_count": 0,
   "metadata": {
    "colab": {
     "base_uri": "https://localhost:8080/",
     "height": 71
    },
    "colab_type": "code",
    "executionInfo": {
     "elapsed": 2851,
     "status": "ok",
     "timestamp": 1551102472241,
     "user": {
      "displayName": "Daniel Chirita",
      "photoUrl": "",
      "userId": "03327998290993072627"
     },
     "user_tz": -240
    },
    "id": "9XVJDKiFn6MR",
    "outputId": "aae0fe33-5110-413e-8e44-e40d2c66c92e"
   },
   "outputs": [
    {
     "name": "stdout",
     "output_type": "stream",
     "text": [
      "1000000.0\n",
      "250000.0\n",
      "25.000000000000004\n"
     ]
    }
   ],
   "source": [
    "# Problem 2\n",
    "\n",
    "'''\n",
    "N = 10**9   Total number of people\n",
    "D = 1000    Duration of observation\n",
    "H = 10**5   Number of hotels\n",
    "P = 0.01    Probability person i will stay at a hotel\n",
    "'''\n",
    "\n",
    "# Part a)\n",
    "\n",
    "N = 10**9   \n",
    "D = 2000   \n",
    "H = 10**5   \n",
    "P = 0.01    \n",
    "\n",
    "# nmbr of Evil events = pairs of people * pairs of days * prob of Evil event\n",
    "nEvil = N**2/2 * D**2/2 * (P**2/H)**2\n",
    "\n",
    "print(nEvil) # 1 mil ppl\n",
    "\n",
    "# Part b)\n",
    "\n",
    "N = 2*10**9   \n",
    "D = 1000   \n",
    "H = 2*10**5   \n",
    "P = 0.01    \n",
    "\n",
    "# nmbr of Evil events = pairs of people * pairs of days * prob of Evil event\n",
    "nEvil = N**2/2 * D**2/2 * (P**2/H)**2\n",
    "\n",
    "print(nEvil) # 250,000 ppl\n",
    "\n",
    "# Part c)\n",
    "\n",
    "N = 10**9   \n",
    "D = 1000   \n",
    "H = 10**5   \n",
    "P = 0.01    \n",
    "\n",
    "# nmbr of Evil events = pairs of people * pairs of days * prob of Evil event\n",
    "nEvil = N**2/2 * D**2/2 * (P**3/H)**2\n",
    "\n",
    "print(nEvil) # 25 ppl"
   ]
  },
  {
   "cell_type": "markdown",
   "metadata": {
    "colab_type": "text",
    "id": "gEDgGRow3VxV"
   },
   "source": [
    "# Problem 3\n",
    "\n",
    "## Part a\n",
    "\n",
    "MapReduce for finding max integer ($n_i$) of a set of integers N:\n",
    "\n",
    "### Map 1: \n",
    "Hash the integers into $g$ buckets of size $\\frac{N}{g}$ integers, find max in each bucket. Group buckets into k groups of size $\\frac{g}{k}$ buckets. Output the value of the max integer with key = group id of each bucket\n",
    "\n",
    "#### Input: N\n",
    "\n",
    "#### Output: (d, max n in $j^{th}$ bucket) where $d\\in\\mathbb{Z}$, d $\\in[1,k] $ and $j \\in \\mathbb{Z}$, j $\\in[1,g]$\n",
    "\n",
    "### Reduce 1:\n",
    "Group results by group of buckets (d) per reducer, find max in that group of buckets and output it\n",
    "\n",
    "#### Input: \n",
    "\n",
    "(1, (max n in $bucket_{1,1}$, max n in $bucket_{1,2}$, ... , max n in $bucket_{1,j}$, ... , max n in $bucket_{1,g/k}$)) group 1\n",
    "\n",
    "(2, (max n in $bucket_{2,1}$, max n in $bucket_{2,2}$, ... , max n in $bucket_{2,j}$, ... , max n in $bucket_{2,g/k}$)) group 2\n",
    "\n",
    "...\n",
    "\n",
    "(d, (max n in $bucket_{d,1}$, max n in $bucket_{d,2}$, ... , max n in $bucket_{d,j}$, ... , max n in $bucket_{d,g/k}$)) group d\n",
    "\n",
    "...\n",
    "\n",
    "(k, (max n in $bucket_{k,1}$, max n in $bucket_{k,2}$, ... , max n in $bucket_{k,j}$, ... , max n in $bucket_{k,g/k}$)) group k\n",
    "\n",
    "#### Output:\n",
    "\n",
    "(1, max in $group_1$)\n",
    "\n",
    "(2, max in $group_2$)\n",
    "\n",
    "...\n",
    "\n",
    "(d, max in $group_d$)\n",
    "\n",
    "...\n",
    "\n",
    "(k, max in $group_k$)\n",
    "\n",
    "### Map 2:\n",
    "\n",
    "Pool all outputs of Reduce 1, assign same key to all key-value pairs, keep value same. \n",
    "\n",
    "#### Input: output of Reduce 1\n",
    "\n",
    "#### Output: \n",
    "(0, max in $group_1$)\n",
    "\n",
    "(0, max in $group_2$)\n",
    "\n",
    "...\n",
    "\n",
    "(0, max in $group_d$)\n",
    "\n",
    "...\n",
    "\n",
    "(0, max in $group_k$)\n",
    "\n",
    "### Reduce 2:\n",
    "Collect all in one reducer and return max integer\n",
    "\n",
    "#### Input: \n",
    "(0, (max in $group_1$, max in $group_2$, max in $group_3$,...))\n",
    "#### Output: $n_i$ (max n in N)\n",
    "\n",
    "\n",
    "## Part b\n",
    "\n",
    "Similarly to part a, except instead of max value, return a tuple of average value $\\bar X_i$ and size of the population $n_i$ that this average was created from.\n",
    "To combine N averages $\\bar X_1$, $\\bar X_2$, $\\bar X_3$, etc that were calculated for $n_1$, $n_2$, $n_3$... $n_N$ values respectively: \n",
    "\n",
    "$$\\frac{\\bar X_1 \\times n_1 + \\bar X_2 \\times n_2 + ... + \\bar X_N \\times n_N}{n_1 + n_2 + ... + n_N}$$\n",
    "\n",
    "## Part c\n",
    "\n",
    "### Map: \n",
    "\n",
    "#### Input: \n",
    "Multiset of N integers\n",
    "\n",
    "#### Output:\n",
    "key-value pairs: $(n_i, n_i)$ - same key and value \n",
    "\n",
    "### Reduce:\n",
    "Collect non distinct integers per reducer and discard all but one instances.\n",
    "\n",
    "#### Input:\n",
    "$(n_i, (n_i, n_i, n_i, ...))$\n",
    "\n",
    "#### Output:\n",
    "$n_i$\n",
    "\n",
    "## Part d\n",
    "\n",
    "### Map 1:\n",
    "\n",
    "#### Input: \n",
    "Multiset of N integers\n",
    "\n",
    "#### Output:\n",
    "key-value pairs: $(n_i, 1)$ \n",
    "\n",
    "### Reduce 1:\n",
    "Collect by integer keys per reducer and discard all but one values.\n",
    "\n",
    "#### Input:\n",
    "$(n_i, (1, 1, 1, ...))$\n",
    "\n",
    "#### Output:\n",
    "$(n_i, 1)$\n",
    "\n",
    "### Map 2:\n",
    "\n",
    "#### Input: \n",
    "Set $S \\subseteq N$ of distinct integers .\n",
    "\n",
    "#### Output:\n",
    "key-value pairs: $(1, n_i)$ \n",
    "\n",
    "### Reduce 2:\n",
    "\n",
    "Collect all words and return size of the value tuple:\n",
    "\n",
    "#### Input:\n",
    "$(1, (n_1, n_2, ... n_S))$\n",
    "\n",
    "#### Output:\n",
    "$|S|$\n",
    "\n",
    "If reducer size is not large enough - can partition words into buckets similar to part a."
   ]
  },
  {
   "cell_type": "code",
   "execution_count": 0,
   "metadata": {
    "colab": {
     "base_uri": "https://localhost:8080/",
     "height": 17
    },
    "colab_type": "code",
    "executionInfo": {
     "elapsed": 27363,
     "status": "ok",
     "timestamp": 1550585046769,
     "user": {
      "displayName": "Daniel Chirita",
      "photoUrl": "",
      "userId": "03327998290993072627"
     },
     "user_tz": -240
    },
    "id": "lEQO1KbJjRHk",
    "outputId": "a12bc563-81e6-4fea-fc09-ed33a5c05eeb"
   },
   "outputs": [
    {
     "data": {
      "text/plain": []
     },
     "execution_count": 1,
     "metadata": {
      "tags": []
     },
     "output_type": "execute_result"
    }
   ],
   "source": [
    "%%shell \n",
    "apt-get install openjdk-8-jdk-headless -qq > /dev/null\n",
    "rm -f spark*.tgz*\n",
    "wget -q https://www-eu.apache.org/dist/spark/spark-2.4.0/spark-2.4.0-bin-hadoop2.7.tgz\n",
    "tar xf spark-2.4.0-bin-hadoop2.7.tgz\n",
    "pip install -q findspark"
   ]
  },
  {
   "cell_type": "code",
   "execution_count": 0,
   "metadata": {
    "colab": {
     "base_uri": "https://localhost:8080/",
     "height": 285
    },
    "colab_type": "code",
    "executionInfo": {
     "elapsed": 19988,
     "status": "ok",
     "timestamp": 1550585049412,
     "user": {
      "displayName": "Daniel Chirita",
      "photoUrl": "",
      "userId": "03327998290993072627"
     },
     "user_tz": -240
    },
    "id": "UoU_5KkHk5NP",
    "outputId": "f1c8d350-c484-4e3b-c15c-040811e273d6"
   },
   "outputs": [
    {
     "name": "stdout",
     "output_type": "stream",
     "text": [
      "Archive:  ml-latest-small.zip\n",
      "  inflating: links.csv               \n",
      "  inflating: tags.csv                \n",
      "  inflating: ratings.csv             \n",
      "  inflating: README.txt              \n",
      "  inflating: movies.csv              \n",
      "total 225804\n",
      "-rw-r--r--  1 root root    197979 Sep 26 20:50 links.csv\n",
      "-rw-r--r--  1 root root    494431 Sep 26 20:49 movies.csv\n",
      "-rw-r--r--  1 root root   2483723 Sep 26 20:49 ratings.csv\n",
      "-rw-r--r--  1 root root      8342 Sep 26 20:50 README.txt\n",
      "drwxr-xr-x  1 root root      4096 Feb 14 17:23 sample_data\n",
      "drwxr-xr-x 13 1000 1000      4096 Oct 29 06:36 spark-2.4.0-bin-hadoop2.7\n",
      "-rw-r--r--  1 root root 227893062 Oct 29 07:10 spark-2.4.0-bin-hadoop2.7.tgz\n",
      "-rw-r--r--  1 root root    118660 Sep 26 20:49 tags.csv\n"
     ]
    },
    {
     "data": {
      "text/plain": []
     },
     "execution_count": 2,
     "metadata": {
      "tags": []
     },
     "output_type": "execute_result"
    }
   ],
   "source": [
    "%%shell\n",
    "# WARNING!: some rm -f below, read before running\n",
    "rm -f ml-latest-small.zip\n",
    "rm -rf ml-latest-small\n",
    "rm -f links.csv tags.csv ratings.csv README.txt movies.csv\n",
    "wget -q http://files.grouplens.org/datasets/movielens/ml-latest-small.zip -O ml-latest-small.zip\n",
    "unzip -j ml-latest-small.zip\n",
    "rm -f ml-latest-small.zip\n",
    "ls -l"
   ]
  },
  {
   "cell_type": "code",
   "execution_count": 0,
   "metadata": {
    "colab": {},
    "colab_type": "code",
    "id": "Rpmzb0yXjs9Z"
   },
   "outputs": [],
   "source": [
    "# SET PATHS\n",
    "import os\n",
    "os.environ[\"JAVA_HOME\"] = \"/usr/lib/jvm/java-8-openjdk-amd64\"\n",
    "os.environ[\"SPARK_HOME\"] = \"/content/spark-2.4.0-bin-hadoop2.7\"\n",
    "\n",
    "# INITIALIZE FINDSPARK\n",
    "import findspark\n",
    "findspark.init()\n",
    "\n",
    "# CREATE CONTEXT\n",
    "import pyspark\n",
    "sc = pyspark.SparkContext(appName=\"hw1\")\n"
   ]
  },
  {
   "cell_type": "code",
   "execution_count": 0,
   "metadata": {
    "colab": {
     "base_uri": "https://localhost:8080/",
     "height": 251
    },
    "colab_type": "code",
    "executionInfo": {
     "elapsed": 1280,
     "status": "ok",
     "timestamp": 1550585777617,
     "user": {
      "displayName": "Daniel Chirita",
      "photoUrl": "",
      "userId": "03327998290993072627"
     },
     "user_tz": -240
    },
    "id": "Ivxirb-bgmYR",
    "outputId": "3c8db540-ec50-4f69-a760-74a8e450b7d9"
   },
   "outputs": [
    {
     "name": "stdout",
     "output_type": "stream",
     "text": [
      "['movieId,imdbId,tmdbId', '1,0114709,862', '2,0113497,8844', '3,0113228,15602', '4,0114885,31357', '5,0113041,11862', '6,0113277,949', '7,0114319,11860', '8,0112302,45325', '9,0114576,9091', '10,0113189,710', '11,0112346,9087', '12,0112896,12110', '13,0112453,21032', '14,0113987,10858', '15,0112760,1408', '16,0112641,524', '17,0114388,4584', '18,0113101,5', '19,0112281,9273', '20,0113845,11517', '21,0113161,8012', '22,0112722,1710', '23,0112401,9691', '24,0114168,12665', '25,0113627,451', '26,0114057,16420', '27,0114011,9263', '28,0114117,17015', '29,0112682,902', '30,0115012,37557', '31,0112792,9909', '32,0114746,63', '34,0112431,9598', '36,0112818,687', '38,0113442,33689', '39,0112697,9603', '40,0112749,34615', '41,0114279,31174', '42,0112819,11443', '43,0114272,35196', '44,0113855,9312', '45,0114681,577', '46,0113347,11861', '47,0114369,807', '48,0114148,10530', '49,0114916,8391', '50,0114814,629', '52,0113819,11448', '53,0110299,49133']\n",
      "['1,0114709,862', '2,0113497,8844', '3,0113228,15602', '4,0114885,31357', '5,0113041,11862', '6,0113277,949', '7,0114319,11860', '8,0112302,45325', '9,0114576,9091', '10,0113189,710', '11,0112346,9087', '12,0112896,12110', '13,0112453,21032', '14,0113987,10858', '15,0112760,1408', '16,0112641,524', '17,0114388,4584', '18,0113101,5', '19,0112281,9273', '20,0113845,11517', '21,0113161,8012', '22,0112722,1710', '23,0112401,9691', '24,0114168,12665', '25,0113627,451', '26,0114057,16420', '27,0114011,9263', '28,0114117,17015', '29,0112682,902', '30,0115012,37557', '31,0112792,9909', '32,0114746,63', '34,0112431,9598', '36,0112818,687', '38,0113442,33689', '39,0112697,9603', '40,0112749,34615', '41,0114279,31174', '42,0112819,11443', '43,0114272,35196', '44,0113855,9312', '45,0114681,577', '46,0113347,11861', '47,0114369,807', '48,0114148,10530', '49,0114916,8391', '50,0114814,629', '52,0113819,11448', '53,0110299,49133', '54,0112499,26441'] \n",
      "\n",
      "['userId,movieId,tag,timestamp', '2,60756,funny,1445714994', '2,60756,Highly quotable,1445714996', '2,60756,will ferrell,1445714992', '2,89774,Boxing story,1445715207', '2,89774,MMA,1445715200', '2,89774,Tom Hardy,1445715205', '2,106782,drugs,1445715054', '2,106782,Leonardo DiCaprio,1445715051', '2,106782,Martin Scorsese,1445715056', '7,48516,way too long,1169687325', '18,431,Al Pacino,1462138765', '18,431,gangster,1462138749', '18,431,mafia,1462138755', '18,1221,Al Pacino,1461699306', '18,1221,Mafia,1461699303', '18,5995,holocaust,1455735472', '18,5995,true story,1455735479', '18,44665,twist ending,1456948283', '18,52604,Anthony Hopkins,1457650696', '18,52604,courtroom drama,1457650711', '18,52604,twist ending,1457650682', '18,88094,britpop,1457444500', '18,88094,indie record label,1457444592', '18,88094,music,1457444609', '18,144210,dumpster diving,1455060381', '18,144210,Sustainability,1455060452', '21,1569,romantic comedy,1419805413', '21,1569,wedding,1419805419', '21,118985,painter,1419805477', '21,119141,bloody,1419793962', '49,109487,black hole,1493093306', '49,109487,sci-fi,1493093332', '49,109487,time-travel,1493093356', '62,2,fantasy,1528843929', '62,2,magic board game,1528843932', '62,2,Robin Williams,1528843907', '62,110,beautiful scenery,1528152541', '62,110,epic,1528152532', '62,110,historical,1528152523', '62,110,inspirational,1528152527', '62,110,Medieval,1528152528', '62,110,mel gibson,1528152521', '62,110,Oscar (Best Cinematography),1528152539', '62,110,revenge,1528152531', '62,110,sword fight,1528152535', '62,410,black comedy,1525636607', '62,410,Christina Ricci,1525636685', '62,410,Christopher Lloyd,1525636622', '62,410,dark comedy,1525636610']\n",
      "['2,60756,funny,1445714994', '2,60756,Highly quotable,1445714996', '2,60756,will ferrell,1445714992', '2,89774,Boxing story,1445715207', '2,89774,MMA,1445715200', '2,89774,Tom Hardy,1445715205', '2,106782,drugs,1445715054', '2,106782,Leonardo DiCaprio,1445715051', '2,106782,Martin Scorsese,1445715056', '7,48516,way too long,1169687325', '18,431,Al Pacino,1462138765', '18,431,gangster,1462138749', '18,431,mafia,1462138755', '18,1221,Al Pacino,1461699306', '18,1221,Mafia,1461699303', '18,5995,holocaust,1455735472', '18,5995,true story,1455735479', '18,44665,twist ending,1456948283', '18,52604,Anthony Hopkins,1457650696', '18,52604,courtroom drama,1457650711', '18,52604,twist ending,1457650682', '18,88094,britpop,1457444500', '18,88094,indie record label,1457444592', '18,88094,music,1457444609', '18,144210,dumpster diving,1455060381', '18,144210,Sustainability,1455060452', '21,1569,romantic comedy,1419805413', '21,1569,wedding,1419805419', '21,118985,painter,1419805477', '21,119141,bloody,1419793962', '49,109487,black hole,1493093306', '49,109487,sci-fi,1493093332', '49,109487,time-travel,1493093356', '62,2,fantasy,1528843929', '62,2,magic board game,1528843932', '62,2,Robin Williams,1528843907', '62,110,beautiful scenery,1528152541', '62,110,epic,1528152532', '62,110,historical,1528152523', '62,110,inspirational,1528152527', '62,110,Medieval,1528152528', '62,110,mel gibson,1528152521', '62,110,Oscar (Best Cinematography),1528152539', '62,110,revenge,1528152531', '62,110,sword fight,1528152535', '62,410,black comedy,1525636607', '62,410,Christina Ricci,1525636685', '62,410,Christopher Lloyd,1525636622', '62,410,dark comedy,1525636610', '62,410,family,1525636708'] \n",
      "\n",
      "['userId,movieId,rating,timestamp', '1,1,4.0,964982703', '1,3,4.0,964981247', '1,6,4.0,964982224', '1,47,5.0,964983815', '1,50,5.0,964982931', '1,70,3.0,964982400', '1,101,5.0,964980868', '1,110,4.0,964982176', '1,151,5.0,964984041', '1,157,5.0,964984100', '1,163,5.0,964983650', '1,216,5.0,964981208', '1,223,3.0,964980985', '1,231,5.0,964981179', '1,235,4.0,964980908', '1,260,5.0,964981680', '1,296,3.0,964982967', '1,316,3.0,964982310', '1,333,5.0,964981179', '1,349,4.0,964982563', '1,356,4.0,964980962', '1,362,5.0,964982588', '1,367,4.0,964981710', '1,423,3.0,964982363', '1,441,4.0,964980868', '1,457,5.0,964981909', '1,480,4.0,964982346', '1,500,3.0,964981208', '1,527,5.0,964984002', '1,543,4.0,964981179', '1,552,4.0,964982653', '1,553,5.0,964984153', '1,590,4.0,964982546', '1,592,4.0,964982271', '1,593,4.0,964983793', '1,596,5.0,964982838', '1,608,5.0,964982931', '1,648,3.0,964982563', '1,661,5.0,964982838', '1,673,3.0,964981775', '1,733,4.0,964982400', '1,736,3.0,964982653', '1,780,3.0,964984086', '1,804,4.0,964980499', '1,919,5.0,964982475', '1,923,5.0,964981529', '1,940,5.0,964982176', '1,943,4.0,964983614', '1,954,5.0,964983219']\n",
      "['1,1,4.0,964982703', '1,3,4.0,964981247', '1,6,4.0,964982224', '1,47,5.0,964983815', '1,50,5.0,964982931', '1,70,3.0,964982400', '1,101,5.0,964980868', '1,110,4.0,964982176', '1,151,5.0,964984041', '1,157,5.0,964984100', '1,163,5.0,964983650', '1,216,5.0,964981208', '1,223,3.0,964980985', '1,231,5.0,964981179', '1,235,4.0,964980908', '1,260,5.0,964981680', '1,296,3.0,964982967', '1,316,3.0,964982310', '1,333,5.0,964981179', '1,349,4.0,964982563', '1,356,4.0,964980962', '1,362,5.0,964982588', '1,367,4.0,964981710', '1,423,3.0,964982363', '1,441,4.0,964980868', '1,457,5.0,964981909', '1,480,4.0,964982346', '1,500,3.0,964981208', '1,527,5.0,964984002', '1,543,4.0,964981179', '1,552,4.0,964982653', '1,553,5.0,964984153', '1,590,4.0,964982546', '1,592,4.0,964982271', '1,593,4.0,964983793', '1,596,5.0,964982838', '1,608,5.0,964982931', '1,648,3.0,964982563', '1,661,5.0,964982838', '1,673,3.0,964981775', '1,733,4.0,964982400', '1,736,3.0,964982653', '1,780,3.0,964984086', '1,804,4.0,964980499', '1,919,5.0,964982475', '1,923,5.0,964981529', '1,940,5.0,964982176', '1,943,4.0,964983614', '1,954,5.0,964983219', '1,1009,3.0,964981775'] \n",
      "\n",
      "['movieId,title,genres', '1,Toy Story (1995),Adventure|Animation|Children|Comedy|Fantasy', '2,Jumanji (1995),Adventure|Children|Fantasy', '3,Grumpier Old Men (1995),Comedy|Romance', '4,Waiting to Exhale (1995),Comedy|Drama|Romance', '5,Father of the Bride Part II (1995),Comedy', '6,Heat (1995),Action|Crime|Thriller', '7,Sabrina (1995),Comedy|Romance', '8,Tom and Huck (1995),Adventure|Children', '9,Sudden Death (1995),Action', '10,GoldenEye (1995),Action|Adventure|Thriller', '11,\"American President, The (1995)\",Comedy|Drama|Romance', '12,Dracula: Dead and Loving It (1995),Comedy|Horror', '13,Balto (1995),Adventure|Animation|Children', '14,Nixon (1995),Drama', '15,Cutthroat Island (1995),Action|Adventure|Romance', '16,Casino (1995),Crime|Drama', '17,Sense and Sensibility (1995),Drama|Romance', '18,Four Rooms (1995),Comedy', '19,Ace Ventura: When Nature Calls (1995),Comedy', '20,Money Train (1995),Action|Comedy|Crime|Drama|Thriller', '21,Get Shorty (1995),Comedy|Crime|Thriller', '22,Copycat (1995),Crime|Drama|Horror|Mystery|Thriller', '23,Assassins (1995),Action|Crime|Thriller', '24,Powder (1995),Drama|Sci-Fi', '25,Leaving Las Vegas (1995),Drama|Romance', '26,Othello (1995),Drama', '27,Now and Then (1995),Children|Drama', '28,Persuasion (1995),Drama|Romance', '29,\"City of Lost Children, The (Cité des enfants perdus, La) (1995)\",Adventure|Drama|Fantasy|Mystery|Sci-Fi', '30,Shanghai Triad (Yao a yao yao dao waipo qiao) (1995),Crime|Drama', '31,Dangerous Minds (1995),Drama', '32,Twelve Monkeys (a.k.a. 12 Monkeys) (1995),Mystery|Sci-Fi|Thriller', '34,Babe (1995),Children|Drama', '36,Dead Man Walking (1995),Crime|Drama', '38,It Takes Two (1995),Children|Comedy', '39,Clueless (1995),Comedy|Romance', '40,\"Cry, the Beloved Country (1995)\",Drama', '41,Richard III (1995),Drama|War', '42,Dead Presidents (1995),Action|Crime|Drama', '43,Restoration (1995),Drama', '44,Mortal Kombat (1995),Action|Adventure|Fantasy', '45,To Die For (1995),Comedy|Drama|Thriller', '46,How to Make an American Quilt (1995),Drama|Romance', '47,Seven (a.k.a. Se7en) (1995),Mystery|Thriller', '48,Pocahontas (1995),Animation|Children|Drama|Musical|Romance', '49,When Night Is Falling (1995),Drama|Romance', '50,\"Usual Suspects, The (1995)\",Crime|Mystery|Thriller', '52,Mighty Aphrodite (1995),Comedy|Drama|Romance', '53,Lamerica (1994),Adventure|Drama']\n",
      "['1,Toy Story (1995),Adventure|Animation|Children|Comedy|Fantasy', '2,Jumanji (1995),Adventure|Children|Fantasy', '3,Grumpier Old Men (1995),Comedy|Romance', '4,Waiting to Exhale (1995),Comedy|Drama|Romance', '5,Father of the Bride Part II (1995),Comedy', '6,Heat (1995),Action|Crime|Thriller', '7,Sabrina (1995),Comedy|Romance', '8,Tom and Huck (1995),Adventure|Children', '9,Sudden Death (1995),Action', '10,GoldenEye (1995),Action|Adventure|Thriller', '11,\"American President, The (1995)\",Comedy|Drama|Romance', '12,Dracula: Dead and Loving It (1995),Comedy|Horror', '13,Balto (1995),Adventure|Animation|Children', '14,Nixon (1995),Drama', '15,Cutthroat Island (1995),Action|Adventure|Romance', '16,Casino (1995),Crime|Drama', '17,Sense and Sensibility (1995),Drama|Romance', '18,Four Rooms (1995),Comedy', '19,Ace Ventura: When Nature Calls (1995),Comedy', '20,Money Train (1995),Action|Comedy|Crime|Drama|Thriller', '21,Get Shorty (1995),Comedy|Crime|Thriller', '22,Copycat (1995),Crime|Drama|Horror|Mystery|Thriller', '23,Assassins (1995),Action|Crime|Thriller', '24,Powder (1995),Drama|Sci-Fi', '25,Leaving Las Vegas (1995),Drama|Romance', '26,Othello (1995),Drama', '27,Now and Then (1995),Children|Drama', '28,Persuasion (1995),Drama|Romance', '29,\"City of Lost Children, The (Cité des enfants perdus, La) (1995)\",Adventure|Drama|Fantasy|Mystery|Sci-Fi', '30,Shanghai Triad (Yao a yao yao dao waipo qiao) (1995),Crime|Drama', '31,Dangerous Minds (1995),Drama', '32,Twelve Monkeys (a.k.a. 12 Monkeys) (1995),Mystery|Sci-Fi|Thriller', '34,Babe (1995),Children|Drama', '36,Dead Man Walking (1995),Crime|Drama', '38,It Takes Two (1995),Children|Comedy', '39,Clueless (1995),Comedy|Romance', '40,\"Cry, the Beloved Country (1995)\",Drama', '41,Richard III (1995),Drama|War', '42,Dead Presidents (1995),Action|Crime|Drama', '43,Restoration (1995),Drama', '44,Mortal Kombat (1995),Action|Adventure|Fantasy', '45,To Die For (1995),Comedy|Drama|Thriller', '46,How to Make an American Quilt (1995),Drama|Romance', '47,Seven (a.k.a. Se7en) (1995),Mystery|Thriller', '48,Pocahontas (1995),Animation|Children|Drama|Musical|Romance', '49,When Night Is Falling (1995),Drama|Romance', '50,\"Usual Suspects, The (1995)\",Crime|Mystery|Thriller', '52,Mighty Aphrodite (1995),Comedy|Drama|Romance', '53,Lamerica (1994),Adventure|Drama', '54,\"Big Green, The (1995)\",Children|Comedy'] \n",
      "\n"
     ]
    }
   ],
   "source": [
    "# Problem 4\n",
    "\n",
    "links = sc.textFile(\"links.csv\")\n",
    "tags = sc.textFile(\"tags.csv\")\n",
    "ratings = sc.textFile(\"ratings.csv\")\n",
    "movies = sc.textFile(\"movies.csv\")\n",
    "files = {\"links\":links, \"tags\":tags, \"ratings\":ratings, \"movies\":movies}\n",
    "\n",
    "def remove_header(itr_index, itr):\n",
    "    return iter(list(itr)[1:]) if itr_index == 0 else itr\n",
    "\n",
    "def clean_commas(item):\n",
    "#     item = item.strip().lower().split(', ')\n",
    "    if '\"' in item:\n",
    "        item = item.split('\"')\n",
    "        item[1]=item[1].replace(',','')\n",
    "        item=''.join(item)\n",
    "    return item\n",
    "\n",
    "\n",
    "def clean(entry):\n",
    "    return entry.strip().lower().split(',')\n",
    "\n",
    "  \n",
    "for filename in files:\n",
    "    print(files[filename].take(50))\n",
    "    files[filename] = files[filename].mapPartitionsWithIndex(remove_header)\n",
    "    print(files[filename].take(50),\"\\n\")\n"
   ]
  },
  {
   "cell_type": "code",
   "execution_count": 0,
   "metadata": {
    "colab": {
     "base_uri": "https://localhost:8080/",
     "height": 35
    },
    "colab_type": "code",
    "executionInfo": {
     "elapsed": 17131,
     "status": "ok",
     "timestamp": 1550591706031,
     "user": {
      "displayName": "Daniel Chirita",
      "photoUrl": "",
      "userId": "03327998290993072627"
     },
     "user_tz": -240
    },
    "id": "dh4Vn2rohcUg",
    "outputId": "400290f4-abb5-4147-f169-49bf9df73d2b"
   },
   "outputs": [
    {
     "name": "stdout",
     "output_type": "stream",
     "text": [
      "[((414, 599), 2676), ((414, 474), 2154), ((68, 414), 1900), ((414, 448), 1828), ((274, 414), 1712), ((474, 599), 1674), ((68, 599), 1580), ((448, 599), 1580), ((274, 599), 1566), ((380, 414), 1446)]\n"
     ]
    }
   ],
   "source": [
    "# 1\n",
    "def avg_num_of_ratings_per_movie(rdd):\n",
    "    rdd = rdd.map(clean).map(lambda entry: (entry[1],1)).reduceByKey(lambda x,y: x+y)\n",
    "    n = rdd.count()\n",
    "    rdd = rdd.map(lambda entry: (1,entry[1])).reduceByKey(lambda x,y: x+y)\n",
    "    return rdd.first()[1]/n\n",
    "\n",
    "# 2\n",
    "def avg_rating_per_genre(genreRdd, ratingRdd):\n",
    "    rddG = genreRdd.map(clean_commas).map(clean).flatMap(lambda entry: [(entry[0],genre) for genre in entry[2].split('|')])\n",
    "    rddR = ratingRdd.map(clean).map(lambda entry: (entry[1],entry[2]))\n",
    "    temp_rddR = rddR.map(lambda entry: (entry[0],1)).reduceByKey(lambda x,y: x+y)\n",
    "    temp_rdd = temp_rddR.join(rddG).map(lambda entry: (entry[1][1],entry[1][0])).reduceByKey(lambda x,y: x+y)\n",
    "    rdd = rddR.join(rddG).map(lambda entry: (entry[1][1],float(entry[1][0]))).reduceByKey(lambda x,y: x+y)\n",
    "    rdd = rdd.join(temp_rdd).map(lambda entry: (entry[0],entry[1][0]/entry[1][1]))\n",
    "    return rdd.collect()\n",
    "\n",
    "# 3\n",
    "def top_three_movies_per_genre(genreRdd, ratingRdd):\n",
    "    rddG = genreRdd.map(clean_commas).map(clean).flatMap(lambda entry: [(entry[0], (entry[1],genre)) for genre in entry[2].split('|')]) # rddG:      (film_id, (title, genre))\n",
    "    rddR = ratingRdd.map(clean).map(lambda entry: (entry[1],float(entry[2])))                                                           # rddR:      (film_id, individual_rat) \n",
    "    rddR_nums = rddR.map(lambda entry: (entry[0],1)).reduceByKey(lambda x,y: x+y)                                                       # rddR_nums: (film_id, total_num_of_ratings),\n",
    "    rddR = rddR_nums.join(rddR.reduceByKey(lambda x,y: x+y)).map(lambda entry: (entry[0],entry[1][1]/entry[1][0]))                      # rddR:      (film_id, avg_rat)\n",
    "    rdd = rddG.join(rddR).map(lambda x: (x[1][0][1], (x[1][0][0],x[1][1])))                                                             # rdd:       (genre, (title, avg_rat))\n",
    "    rddG = rddG.map(lambda entry: (entry[1][1],1)).reduceByKey(lambda x,y: x+y)\n",
    "    top3s=[]\n",
    "    for genre in rddG.collect():\n",
    "        top3s.append((genre[0],rdd.filter(lambda x: x[0] == genre[0]).map(lambda entry: entry[1]).takeOrdered(3, key = lambda x: -x[1])))\n",
    "    return top3s\n",
    "\n",
    "# 4\n",
    "def top_ten_users_by_ratings(ratingRdd):\n",
    "    topten = ratingRdd.map(clean).map(lambda entry: (entry[0],1)).reduceByKey(lambda x,y: x+y).takeOrdered(10, key = lambda x: -x[1])\n",
    "    return topten\n",
    "\n",
    "# 5 \n",
    "def top_ten_pairs_of_users_by_movies(rdd):\n",
    "    # take (user, all movies watched by this user) and (movie, users who watched this movie) and by joining them generate (user, all users who have watched movies seen by this user)\n",
    "    # then flatmap that to get pairs of users per matching movie for each user and then reduce by key (user pair in this case) to count how many times each pair appears in the rdd\n",
    "    # now each user pair will have a matching index associated with it\n",
    "    # just takeOrdered 10 when in descending order\n",
    "    users = rdd.map(clean).map(lambda x: x[0]).distinct() # user id's (unique)\n",
    "    rdd_user_movies = rdd.map(clean).map(lambda entry: (entry[0],entry[1])).groupByKey().mapValues(tuple) #(user, (movies))\n",
    "    rdd_movie_users = rdd.map(clean).map(lambda entry: (entry[1],entry[0])).groupByKey().mapValues(tuple) #(movie, (users))\n",
    "    rdd_movie_user = rdd_user_movies.flatMap(lambda entry: [(movie,entry[0]) for movie in entry[1]])      #(movie, user)\n",
    "    rdd = rdd_movie_user.join(rdd_movie_users).map(lambda entry: entry[1])                                #(movie, user).join(movie, (users)) -> (user,(users))\n",
    "    rdd = rdd.flatMap(lambda entry: [(tuple(sorted([int(entry[0]),int(user)])),1) for user in entry[1]]).filter(lambda x:x[0][0]!=x[0][1]).reduceByKey(lambda x,y: x+y)\n",
    "    #(user, (users)) -> ((user1, user2),1) -> ((user1, user2),n)\n",
    "    topten = rdd.takeOrdered(10, key = lambda x: -x[1])\n",
    "    return topten\n",
    "\n",
    "if __name__==\"__main__\":\n",
    "#     print(avg_num_of_ratings_per_movie(files[\"ratings\"]))\n",
    "#     print(avg_rating_per_genre(files[\"movies\"],files[\"ratings\"]))\n",
    "#     print(top_three_movies_per_genre(files[\"movies\"],files[\"ratings\"]))\n",
    "#     print(top_ten_users_by_ratings(files[\"ratings\"]))\n",
    "    print(top_ten_pairs_of_users_by_movies(files[\"ratings\"]))"
   ]
  },
  {
   "cell_type": "code",
   "execution_count": 0,
   "metadata": {
    "colab": {},
    "colab_type": "code",
    "id": "7G4_mOW3oGGW"
   },
   "outputs": [],
   "source": []
  }
 ],
 "metadata": {
  "colab": {
   "collapsed_sections": [],
   "name": "fds_hw1.ipynb",
   "provenance": [],
   "version": "0.3.2"
  },
  "kernelspec": {
   "display_name": "Python 3",
   "language": "python",
   "name": "python3"
  },
  "language_info": {
   "codemirror_mode": {
    "name": "ipython",
    "version": 3
   },
   "file_extension": ".py",
   "mimetype": "text/x-python",
   "name": "python",
   "nbconvert_exporter": "python",
   "pygments_lexer": "ipython3",
   "version": "3.7.1"
  }
 },
 "nbformat": 4,
 "nbformat_minor": 1
}
