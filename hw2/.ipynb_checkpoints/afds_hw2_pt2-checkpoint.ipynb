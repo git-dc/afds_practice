{
 "cells": [
  {
   "cell_type": "code",
   "execution_count": 6,
   "metadata": {},
   "outputs": [],
   "source": [
    "import matplotlib.pyplot as plt\n",
    "import numpy as np\n",
    "import random\n",
    "import math\n",
    "import time\n",
    "import mmh3\n",
    "from tqdm import tqdm_notebook as tqdm\n",
    "from tqdm import tnrange\n",
    "from IPython.display import display, clear_output\n",
    "from joblib import Parallel, delayed\n",
    "\n",
    "def mk_sample(n):\n",
    "    sample = []\n",
    "    indeces = []\n",
    "    while len(indeces)<n:\n",
    "        k = int(random.random()*population)\n",
    "        if k not in indeces: indeces.append(k)\n",
    "\n",
    "    for i, line in enumerate(fp):\n",
    "        if i in indeces: sample.append(parsed(line))\n",
    "        else: pass\n",
    "        if len(sample)==n:\n",
    "            fp.close()\n",
    "            break\n",
    "    return sample\n",
    "\n",
    "def js(s1,s2):\n",
    "    I=sum([1 for item in s1 if item in s2])\n",
    "    U=len(s1)+len(s2)-I\n",
    "    return I/U\n",
    "\n",
    "def parsed(seq):\n",
    "    return [int(item) for item in seq.strip().split(' ')]\n",
    "\n",
    "def minhash(elem_set,i):\n",
    "    val = float('inf')\n",
    "    for item in elem_set:\n",
    "        new = mmh3.hash(str(item)+str(i))\n",
    "        if new < val: val = new\n",
    "    return val\n",
    "\n",
    "def signature(elem_set,k):\n",
    "    return [minhash(elem_set,i) for i in range(k)]\n",
    "\n",
    "def G(band):\n",
    "    return mmh3.hash(band)\n",
    "\n",
    "def proc(raw,r,b):\n",
    "    j=0\n",
    "    band = ''\n",
    "    sign = []\n",
    "    for elem in raw:\n",
    "        if j%r == 0 and j!=0:\n",
    "            sign.append(band)\n",
    "            band=''\n",
    "        band +=str(elem)\n",
    "        j+=1\n",
    "    sign.append(band)\n",
    "    return sign\n",
    "\n",
    "def dress_signature(line,k,i):\n",
    "    line = parsed(line)\n",
    "    return (line,proc(signature(line,k),r,b),i)\n",
    "\n",
    "\n",
    "def proc_batch(batch,k):\n",
    "#     print(len(batch))\n",
    "    return [dress_signature(line,k,i) for i, line in enumerate(batch)]\n",
    "\n",
    "def convert_to_signatures(filename,r,b):\n",
    "    signatures = []    \n",
    "    k = r*b\n",
    "    start=time.time()\n",
    "    with open(filename,'r') as fp:\n",
    "        fp_read = fp.readlines()\n",
    "        n_jobs=8\n",
    "        batch_size = int(len(fp_read)/n_jobs)\n",
    "        fp_read = [fp_read[n:n+batch_size] for n in range(0,len(fp_read),batch_size)]\n",
    "\n",
    "    signatures = Parallel(n_jobs=n_jobs)(delayed(proc_batch)(batch,k) for batch in fp_read)\n",
    "    signatures = [item for sublist in signatures for item in sublist]\n",
    "   \n",
    "    end=time.time()\n",
    "\n",
    "    print('generating signatures took',round((end-start)/60,2),'minutes.')\n",
    "    \n",
    "    return signatures\n",
    "\n",
    "def compare_band(signatures,i):\n",
    "    band_collisions = []\n",
    "    candidates = {}\n",
    "    for set_sign_linum in tqdm(signatures):\n",
    "        candidate = G(set_sign_linum[1][i])\n",
    "        if str(candidate) in candidates:\n",
    "            this_set = (set_sign_linum[0], set_sign_linum[2])\n",
    "            similar_set = (candidates[str(candidate)])\n",
    "            band_collisions.append((this_set, similar_set))\n",
    "            clear_output(wait=True)\n",
    "            display('number of collisions:'+str(len(band_collisions)))\n",
    "        else:\n",
    "            candidates[str(candidate)]=(set_sign_linum[0],set_sign_linum[2])\n",
    "    return band_collisions\n",
    "    \n",
    "def compare_bands(signatures,b):\n",
    "#     print('there will be %d processes of equal duration' % b)\n",
    "    collisions = []\n",
    "    i=0\n",
    "    start=time.time()       \n",
    "    \n",
    "    bands=Parallel(n_jobs=7)(delayed(compare_band)(signatures,i) for i in tnrange(b))\n",
    "#     bands=[compare_band(signatures,i) for i in tnrange(b)]\n",
    "    collisions = [match for collection in bands for match in collection]\n",
    "    \n",
    "    end=time.time()\n",
    "    print('comparing bands took',(end-start)/60,'minutes.')\n",
    "    return collisions\n"
   ]
  },
  {
   "cell_type": "code",
   "execution_count": 7,
   "metadata": {},
   "outputs": [
    {
     "name": "stdout",
     "output_type": "stream",
     "text": [
      "taking a sample of data...\n",
      "taking a sample of size 500 took 8 seconds\n"
     ]
    },
    {
     "data": {
      "application/vnd.jupyter.widget-view+json": {
       "model_id": "3884316aa6be42f88a63652d23c8a490",
       "version_major": 2,
       "version_minor": 0
      },
      "text/plain": [
       "HBox(children=(IntProgress(value=0, max=500), HTML(value='')))"
      ]
     },
     "metadata": {},
     "output_type": "display_data"
    },
    {
     "name": "stdout",
     "output_type": "stream",
     "text": [
      "\n",
      "computing similarities for the sample directly took 17.630011081695557 seconds\n",
      "running the full job directly would take 204 days\n",
      "\n",
      "testing all functions on the sample...\n",
      "generating signatures took 0.02 minutes.\n"
     ]
    },
    {
     "data": {
      "application/vnd.jupyter.widget-view+json": {
       "model_id": "49d4e7f1020b499380adca0b5f40d3b8",
       "version_major": 2,
       "version_minor": 0
      },
      "text/plain": [
       "HBox(children=(IntProgress(value=0, max=8), HTML(value='')))"
      ]
     },
     "metadata": {},
     "output_type": "display_data"
    },
    {
     "name": "stdout",
     "output_type": "stream",
     "text": [
      "\n",
      "comparing bands took 0.025771009922027587 minutes.\n"
     ]
    }
   ],
   "source": [
    "population = 1000000\n",
    "r=3\n",
    "b=8\n",
    "fp = open('data.txt','r')\n",
    "sp = open('sample.txt','w')\n",
    "print('taking a sample of data...')\n",
    "sample_size=500\n",
    "\n",
    "start = time.time()\n",
    "sample = mk_sample(sample_size) # 5000 samples is too slow (takes several minutes to compute anything)\n",
    "end = time.time()\n",
    "for line in sample:\n",
    "    sp.write(' '.join(str(x) for x in line)+'\\n')\n",
    "sp.close()\n",
    "\n",
    "print('taking a sample of size %d took %d seconds' % (len(sample),(end-start)))\n",
    "fp.close()\n",
    "\n",
    "sample_similarities=[0]*sample_size\n",
    "i=0\n",
    "\n",
    "start = time.time()\n",
    "for item in tqdm(sample):\n",
    "    i+=1\n",
    "    for jtem in sample[i:]:\n",
    "        simil = js(item,jtem)//0.001\n",
    "        sample_similarities[int(simil)] += 1\n",
    "end = time.time()\n",
    "\n",
    "\n",
    "print('computing similarities for the sample directly took',end-start,'seconds')\n",
    "print ('running the full job directly would take',round((end - start)*1001000/60/60/24),'days')\n",
    "\n",
    "print('\\ntesting all functions on the sample...')\n",
    "signatures = convert_to_signatures('sample.txt',r,b)\n",
    "collisions = compare_bands(signatures,b)"
   ]
  },
  {
   "cell_type": "code",
   "execution_count": 41,
   "metadata": {},
   "outputs": [
    {
     "name": "stdout",
     "output_type": "stream",
     "text": [
      "max gradient             at JS = 0.8997\n",
      "P(collision)      at JS >= 0.85: 0.4227\n",
      "threshold:  0.905      b = 3 r = 11 k = 33\n"
     ]
    },
    {
     "data": {
      "image/png": "[encoded data removed]",
      "text/plain": [
       "<Figure size 432x288 with 2 Axes>"
      ]
     },
     "metadata": {
      "needs_background": "light"
     },
     "output_type": "display_data"
    }
   ],
   "source": [
    "rbvals085 = [(11,3),(13,8),(25,60)]\n",
    "# 6,3 gives 0.3 hrs\n",
    "# r=13, b=8 is better than r=25, b=60, but still too many calculations (104 hashes per set)\n",
    "def fn(x):\n",
    "    return 1-(1-x**r)**b\n",
    "\n",
    "with open('sample.txt','r') as sample_fp:\n",
    "    sample = [parsed(line) for line in sample_fp]\n",
    "    \n",
    "r,b=rbvals085[0]\n",
    "k=r*b\n",
    "x = np.linspace(0,1); f = fn(x); \n",
    "x_ = ((r-1)/(b*r-1))**(1/r)\n",
    "\n",
    "print('max gradient             at JS =',round(x_,4))\n",
    "print('P(collision)      at JS >= 0.85:',round(fn(0.85),4))\n",
    "print('threshold: ',round((1/b)**(b/k),3), '     b =',b,'r =',r,'k =',k)\n",
    "\n",
    "fig, ax1 = plt.subplots()\n",
    "plt.title('r=%d,b=%d' % (r,b))\n",
    "\n",
    "\n",
    "ax1.plot(np.linspace(0,1,sample_size), sample_similarities, 'b.')\n",
    "ax1.set_ylabel('n', color='b')\n",
    "ax1.tick_params('y', colors='b')\n",
    "plt.xlabel('Jaccard Similarity')\n",
    "\n",
    "ax2 = ax1.twinx()\n",
    "ax2.plot(x, f, 'r-',x_,(1-(1-x_**r)**b),'g.',0.85,fn(0.85),'b.')\n",
    "ax2.set_ylabel('P(collision)', color='r')\n",
    "ax2.tick_params('y', colors='r')\n",
    "\n",
    "fig.tight_layout()\n",
    "plt.show()"
   ]
  },
  {
   "cell_type": "code",
   "execution_count": null,
   "metadata": {},
   "outputs": [],
   "source": [
    "signatures = convert_to_signatures('data.txt',r,b)\n",
    "collisions = compare_bands(signatures,b)"
   ]
  },
  {
   "cell_type": "code",
   "execution_count": 9,
   "metadata": {},
   "outputs": [
    {
     "ename": "NameError",
     "evalue": "name 'collisions' is not defined",
     "output_type": "error",
     "traceback": [
      "\u001b[0;31m---------------------------------------------------------------------------\u001b[0m",
      "\u001b[0;31mNameError\u001b[0m                                 Traceback (most recent call last)",
      "\u001b[0;32m<ipython-input-9-8adb29f78995>\u001b[0m in \u001b[0;36m<module>\u001b[0;34m\u001b[0m\n\u001b[1;32m      1\u001b[0m \u001b[0mtrue_cols\u001b[0m \u001b[0;34m=\u001b[0m \u001b[0;34m[\u001b[0m\u001b[0;34m]\u001b[0m\u001b[0;34m\u001b[0m\u001b[0;34m\u001b[0m\u001b[0m\n\u001b[0;32m----> 2\u001b[0;31m \u001b[0;32mfor\u001b[0m \u001b[0mcol\u001b[0m \u001b[0;32min\u001b[0m \u001b[0mtqdm\u001b[0m\u001b[0;34m(\u001b[0m\u001b[0mcollisions\u001b[0m\u001b[0;34m)\u001b[0m\u001b[0;34m:\u001b[0m\u001b[0;34m\u001b[0m\u001b[0;34m\u001b[0m\u001b[0m\n\u001b[0m\u001b[1;32m      3\u001b[0m     \u001b[0msimil\u001b[0m \u001b[0;34m=\u001b[0m \u001b[0mjs\u001b[0m\u001b[0;34m(\u001b[0m\u001b[0mcol\u001b[0m\u001b[0;34m[\u001b[0m\u001b[0;36m0\u001b[0m\u001b[0;34m]\u001b[0m\u001b[0;34m[\u001b[0m\u001b[0;36m0\u001b[0m\u001b[0;34m]\u001b[0m\u001b[0;34m,\u001b[0m\u001b[0mcol\u001b[0m\u001b[0;34m[\u001b[0m\u001b[0;36m1\u001b[0m\u001b[0;34m]\u001b[0m\u001b[0;34m[\u001b[0m\u001b[0;36m0\u001b[0m\u001b[0;34m]\u001b[0m\u001b[0;34m)\u001b[0m\u001b[0;34m\u001b[0m\u001b[0;34m\u001b[0m\u001b[0m\n\u001b[1;32m      4\u001b[0m     \u001b[0;32mif\u001b[0m \u001b[0msimil\u001b[0m \u001b[0;34m>=\u001b[0m\u001b[0;36m0.85\u001b[0m\u001b[0;34m:\u001b[0m\u001b[0;34m\u001b[0m\u001b[0;34m\u001b[0m\u001b[0m\n\u001b[1;32m      5\u001b[0m         \u001b[0mprint\u001b[0m\u001b[0;34m(\u001b[0m\u001b[0;34m'BINGO'\u001b[0m\u001b[0;34m)\u001b[0m\u001b[0;34m\u001b[0m\u001b[0;34m\u001b[0m\u001b[0m\n",
      "\u001b[0;31mNameError\u001b[0m: name 'collisions' is not defined"
     ]
    }
   ],
   "source": [
    "true_cols = []\n",
    "for col in tqdm(collisions):\n",
    "    simil = js(col[0][0],col[1][0])\n",
    "    if simil >=0.85:\n",
    "        print('BINGO')\n",
    "        print(js(col[0][0],col[1][0]))\n",
    "#         print(col[0][0])\n",
    "#         print(col[1][0])\n",
    "        true_cols.append((col[0][0],col[1][0]))\n",
    "        clear_output(wait=True)\n",
    "        display('number of similar sets:'+str(len(true_cols)))\n",
    "\n",
    "line_nums={}\n",
    "fp = open('data.txt','r')\n",
    "for i, line in enumerate(tqdm(fp,total=1000000)):\n",
    "    parsed(line)\n",
    "    for pair in true_cols:\n",
    "        if pair[0]==line:\n",
    "            j=i\n",
    "            line_nums[str(i)]='temp'\n",
    "        if pair[1]==line:\n",
    "            line_nums[j]=str(i)\n",
    "print(line_nums)\n",
    "fp.close()\n",
    "# print(collisions)"
   ]
  },
  {
   "cell_type": "code",
   "execution_count": null,
   "metadata": {},
   "outputs": [],
   "source": []
  }
 ],
 "metadata": {
  "kernelspec": {
   "display_name": "Python 3",
   "language": "python",
   "name": "python3"
  },
  "language_info": {
   "codemirror_mode": {
    "name": "ipython",
    "version": 3
   },
   "file_extension": ".py",
   "mimetype": "text/x-python",
   "name": "python",
   "nbconvert_exporter": "python",
   "pygments_lexer": "ipython3",
   "version": "3.7.1"
  }
 },
 "nbformat": 4,
 "nbformat_minor": 2
}
