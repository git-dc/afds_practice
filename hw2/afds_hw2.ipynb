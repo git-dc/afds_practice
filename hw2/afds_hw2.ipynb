{
 "cells": [
  {
   "cell_type": "code",
   "execution_count": 2,
   "metadata": {},
   "outputs": [],
   "source": [
    "import matplotlib.pyplot as plt\n",
    "import numpy as np\n",
    "import random\n",
    "import math\n",
    "import time\n",
    "import mmh3\n",
    "from tqdm import tqdm_notebook as tqdm\n",
    "from tqdm import tnrange\n",
    "from IPython.display import display, clear_output\n",
    "from joblib import Parallel, delayed"
   ]
  },
  {
   "cell_type": "code",
   "execution_count": 2,
   "metadata": {},
   "outputs": [
    {
     "data": {
      "image/png": "[encoded data removed]",
      "text/plain": [
       "<Figure size 1440x360 with 2 Axes>"
      ]
     },
     "metadata": {
      "needs_background": "light"
     },
     "output_type": "display_data"
    }
   ],
   "source": [
    "# Problem 1\n",
    "def generate_pnts(n,typ='undefined'):\n",
    "    for i in range(n):\n",
    "        if typ.lower() == 'polar':\n",
    "            yield 1, (random.random()*2-1)*math.pi\n",
    "        elif typ.lower() == 'cartesian':\n",
    "            x=random.random()*2-1\n",
    "            y=random.random()*2-1\n",
    "            yield x/(x**2+y**2)**0.5,y/(x**2+y**2)**0.5\n",
    "        else:\n",
    "            print('point type %s' % (typ.lower()))\n",
    "cartesdataP=[]\n",
    "polardataP=[]\n",
    "delta=0.001\n",
    "bins=100\n",
    "n=1000000\n",
    "\n",
    "polardataP=[p[1] for p in generate_pnts(n,'polar')]\n",
    "cartesdataP=[math.atan2(p[0],p[1]) for p in generate_pnts(n,'cartesian')]\n",
    "\n",
    "\n",
    "plt.figure(1, figsize=(20, 5))\n",
    "\n",
    "plt.subplot(131)\n",
    "plt.hist(cartesdataP,bins)\n",
    "plt.title('Cartesian vectors with x,y random in range(-1,1)')\n",
    "plt.xlabel('Phase')\n",
    "plt.ylabel('Number of points')\n",
    "\n",
    "plt.subplot(132)\n",
    "plt.hist(polardataP,bins)\n",
    "plt.title('Polar vectors with Theta random in range(-Pi,Pi)')\n",
    "plt.xlabel('Phase')\n",
    "plt.ylabel('Number of points')\n",
    "\n",
    "plt.show()\n"
   ]
  },
  {
   "cell_type": "markdown",
   "metadata": {},
   "source": [
    "# Problem 2\n",
    "\n",
    "\n",
    "From each machine $M_i, i\\leq t$, take a small random sample $\\hat d_i$ of the data available to the machine, call it $d_i$, and send it to some fixed node $M_0$. $M_0$ receives samples from each machine and based on their union is able to obtain an estimate, call it $\\hat D$, of the distribution of the whole dataset $D$. $M_0$ then computes bin sizes such that approximately equal amounts of data from $\\hat D$ fall into each bucket (total $t$ buckets) and distributes this information across the $t$ machines. Each machine $M_i$ then should apply this bucketing as computed by $M_0$ to the full $d_i$ available to it and create key-value pairs with keys equal to bucket id's and values being the data elements."
   ]
  },
  {
   "cell_type": "code",
   "execution_count": null,
   "metadata": {},
   "outputs": [],
   "source": [
    "# Problem 3\n",
    "\n",
    "# Part 1\n",
    "\n",
    "\n",
    "def mk_sample(n):\n",
    "    sample = []\n",
    "    indeces = []\n",
    "    while len(indeces)<n:\n",
    "        k = int(random.random()*population)\n",
    "        if k not in indeces: indeces.append(k)\n",
    "\n",
    "    for i, line in enumerate(tqdm(fp,total=1000000)):\n",
    "        if i in indeces: sample.append(parsed(line))\n",
    "        else: pass\n",
    "        if len(sample)==n:\n",
    "            fp.close()\n",
    "            break\n",
    "    return sample\n",
    "\n",
    "def js(s1,s2):\n",
    "    I=sum([1 for item in s1 if item in s2])\n",
    "    U=len(s1)+len(s2)-I\n",
    "    return I/U\n",
    "\n",
    "def parsed(seq):\n",
    "    return [int(item) for item in seq.strip().split(' ')]\n",
    "\n",
    "def minhash(elem_set,i):\n",
    "    val = float('inf')\n",
    "    for item in elem_set:\n",
    "        new = mmh3.hash(str(item)+str(i))\n",
    "        if new < val: val = new\n",
    "    return val\n",
    "\n",
    "def signature(elem_set,k):\n",
    "    return [minhash(elem_set,i) for i in range(k)]\n",
    "\n",
    "def G(band):\n",
    "    return mmh3.hash(band)\n",
    "\n",
    "def proc(raw,r,b):\n",
    "    j=0\n",
    "    band = ''\n",
    "    sign = []\n",
    "    for elem in raw:\n",
    "        if j%r == 0 and j!=0:\n",
    "            sign.append(band)\n",
    "            band=''\n",
    "        band +=str(elem)\n",
    "        j+=1\n",
    "    sign.append(band)\n",
    "    return sign\n",
    "\n",
    "def dress_signature(line,k,i):\n",
    "    line = parsed(line)\n",
    "    return (line,proc(signature(line,k),r,b),i)\n",
    "\n",
    "\n",
    "def proc_batch(batch,k):\n",
    "#     print(len(batch))\n",
    "    return [dress_signature(line,k,i) for i, line in enumerate(batch)]\n",
    "\n",
    "def convert_to_signatures(filename,r,b):\n",
    "    signatures = []    \n",
    "    k = r*b\n",
    "    start=time.time()\n",
    "    with open(filename,'r') as fp:\n",
    "        fp_read = fp.readlines()\n",
    "        n_jobs=8\n",
    "        batch_size = int(len(fp_read)/n_jobs)\n",
    "        fp_read = [fp_read[n:n+batch_size] for n in range(0,len(fp_read),batch_size)]\n",
    "\n",
    "    signatures = Parallel(n_jobs=n_jobs)(delayed(proc_batch)(batch,k) for batch in fp_read)\n",
    "    signatures = [item for sublist in signatures for item in sublist]\n",
    "   \n",
    "    end=time.time()\n",
    "\n",
    "    print('generating signatures took',round((end-start)/60,2),'minutes.')\n",
    "    return signatures\n",
    "\n",
    "def compare_band(signatures,i):\n",
    "    band_collisions = []\n",
    "    candidates = {}\n",
    "    for set_sign_linum in tqdm(signatures):\n",
    "        candidate = G(set_sign_linum[1][i])\n",
    "        if str(candidate) in candidates:\n",
    "            this_set = (set_sign_linum[0], set_sign_linum[2])\n",
    "            similar_set = (candidates[str(candidate)])\n",
    "            band_collisions.append((this_set, similar_set))\n",
    "#             clear_output(wait=True)\n",
    "#             display('number of collisions: '+str(len(band_collisions)))\n",
    "        else:\n",
    "            candidates[str(candidate)]=(set_sign_linum[0],set_sign_linum[2])\n",
    "    return band_collisions\n",
    "    \n",
    "def compare_bands(signatures,b):\n",
    "#     print('there will be %d processes of equal duration' % b)\n",
    "    collisions = []\n",
    "    i=0\n",
    "    start=time.time()       \n",
    "    \n",
    "#     bands=Parallel(n_jobs=7)(delayed(compare_band)(signatures,i) for i in tnrange(b))\n",
    "    bands=[compare_band(signatures,i) for i in tnrange(b)]\n",
    "    collisions = [match for collection in bands for match in collection]\n",
    "    \n",
    "    end=time.time()\n",
    "    print('comparing bands took',(end-start)/60,'minutes.')\n",
    "    return collisions\n",
    "# \n",
    "def confirm_js(collisions):\n",
    "    true_cols = []\n",
    "    line_nums={}\n",
    "    for col in tqdm(collisions):\n",
    "        simil = js(col[0][0],col[1][0])\n",
    "        if simil >=0.85:\n",
    "            print('BINGO')\n",
    "            print(js(col[0][0],col[1][0]))\n",
    "            print(col[0][1])\n",
    "            print(col[1][1])\n",
    "            true_cols.append(col)\n",
    "            line_nums[col[0][1]] = (col[0][0],col[1][0])\n",
    "            line_nums[col[1][1]] = (col[0][0],col[1][0])\n",
    "            clear_output(wait=True)\n",
    "            display('number of similar sets:'+str(len(true_cols)))\n",
    "    return true_cols"
   ]
  },
  {
   "cell_type": "code",
   "execution_count": 6,
   "metadata": {},
   "outputs": [
    {
     "name": "stdout",
     "output_type": "stream",
     "text": [
      "days required to run the full job: 912.3679371029139\n"
     ]
    }
   ],
   "source": [
    "fp = open('data.txt','r')\n",
    "prev_line=parsed(fp.readline())\n",
    "n=0\n",
    "limit = 5000\n",
    "\n",
    "\n",
    "start = time.time()\n",
    "\n",
    "for line in fp:\n",
    "    new_line=parsed(line)\n",
    "    js(new_line,prev_line)\n",
    "    prev_line=new_line\n",
    "    n+=1\n",
    "    if n>limit:break\n",
    "\n",
    "end = time.time() # 5000 pairs\n",
    "\n",
    "print ('days required to run the full job:',(end - start)*99999900/60/60/24)\n",
    "    \n",
    "fp.close()\n",
    "\n",
    "# 912 days with direct JS on 10^6 choose 2 pairs"
   ]
  },
  {
   "cell_type": "code",
   "execution_count": 8,
   "metadata": {},
   "outputs": [
    {
     "name": "stdout",
     "output_type": "stream",
     "text": [
      "taking a sample of data...\n",
      "taking a sample of size 500 took 9 seconds\n"
     ]
    },
    {
     "data": {
      "application/vnd.jupyter.widget-view+json": {
       "model_id": "eacf75244a4b4902b607dffedcf23b64",
       "version_major": 2,
       "version_minor": 0
      },
      "text/plain": [
       "HBox(children=(IntProgress(value=0, max=500), HTML(value='')))"
      ]
     },
     "metadata": {},
     "output_type": "display_data"
    },
    {
     "name": "stdout",
     "output_type": "stream",
     "text": [
      "\n",
      "computing similarities for the sample directly took 19.71661686897278 seconds\n",
      "running the full job directly would take 915 days\n",
      "\n",
      "testing all functions on the sample...\n",
      "generating signatures took 0.02 minutes.\n"
     ]
    },
    {
     "data": {
      "application/vnd.jupyter.widget-view+json": {
       "model_id": "e6be1dd644cd415a8962598b4c04d855",
       "version_major": 2,
       "version_minor": 0
      },
      "text/plain": [
       "HBox(children=(IntProgress(value=0, max=5), HTML(value='')))"
      ]
     },
     "metadata": {},
     "output_type": "display_data"
    },
    {
     "data": {
      "application/vnd.jupyter.widget-view+json": {
       "model_id": "35ca5875c83f444d8f788680abb9e405",
       "version_major": 2,
       "version_minor": 0
      },
      "text/plain": [
       "HBox(children=(IntProgress(value=0, max=500), HTML(value='')))"
      ]
     },
     "metadata": {},
     "output_type": "display_data"
    },
    {
     "data": {
      "application/vnd.jupyter.widget-view+json": {
       "model_id": "0b3ebd83f8f5489c81e7ab9c259e6220",
       "version_major": 2,
       "version_minor": 0
      },
      "text/plain": [
       "HBox(children=(IntProgress(value=0, max=500), HTML(value='')))"
      ]
     },
     "metadata": {},
     "output_type": "display_data"
    },
    {
     "data": {
      "application/vnd.jupyter.widget-view+json": {
       "model_id": "69e6d36b629a44f0946c279db7eef19f",
       "version_major": 2,
       "version_minor": 0
      },
      "text/plain": [
       "HBox(children=(IntProgress(value=0, max=500), HTML(value='')))"
      ]
     },
     "metadata": {},
     "output_type": "display_data"
    },
    {
     "data": {
      "application/vnd.jupyter.widget-view+json": {
       "model_id": "407f622454f441ddb86ccc7d36693644",
       "version_major": 2,
       "version_minor": 0
      },
      "text/plain": [
       "HBox(children=(IntProgress(value=0, max=500), HTML(value='')))"
      ]
     },
     "metadata": {},
     "output_type": "display_data"
    },
    {
     "data": {
      "application/vnd.jupyter.widget-view+json": {
       "model_id": "ab3b277a3f7844f89ff5b4508e7bce7c",
       "version_major": 2,
       "version_minor": 0
      },
      "text/plain": [
       "HBox(children=(IntProgress(value=0, max=500), HTML(value='')))"
      ]
     },
     "metadata": {},
     "output_type": "display_data"
    },
    {
     "name": "stdout",
     "output_type": "stream",
     "text": [
      "\n",
      "comparing bands took 0.0031589468320210776 minutes.\n"
     ]
    }
   ],
   "source": [
    "population = 1000000\n",
    "r=10\n",
    "b=5\n",
    "fp = open('data.txt','r')\n",
    "sp = open('sample.txt','w')\n",
    "print('taking a sample of data...')\n",
    "\n",
    "sample_size = 500\n",
    "\n",
    "start = time.time()\n",
    "sample = mk_sample(sample_size) # 5000 samples is too slow (takes several minutes to compute anything)\n",
    "end = time.time()\n",
    "for line in sample:\n",
    "    sp.write(' '.join(str(x) for x in line)+'\\n')\n",
    "sp.close()\n",
    "\n",
    "print('taking a sample of size %d took %d seconds' % (sample_size,(end-start)))\n",
    "fp.close()\n",
    "\n",
    "sample_similarities=[0]*sample_size\n",
    "i=0\n",
    "\n",
    "start = time.time()\n",
    "for item in tqdm(sample):\n",
    "    i+=1\n",
    "    for jtem in sample[i:]:\n",
    "        simil = js(item,jtem)//0.001\n",
    "        sample_similarities[int(simil)] += 1\n",
    "end = time.time()\n",
    "\n",
    "\n",
    "print('computing similarities for the sample directly took',end-start,'seconds')\n",
    "print ('running the full job directly would take',round((end - start)*4008012/60/60/24),'days')\n",
    "\n",
    "print('\\ntesting all functions on the sample...')\n",
    "signatures = convert_to_signatures('sample.txt',r,b)\n",
    "collisions = compare_bands(signatures,b)"
   ]
  },
  {
   "cell_type": "code",
   "execution_count": 10,
   "metadata": {},
   "outputs": [
    {
     "name": "stdout",
     "output_type": "stream",
     "text": [
      "max gradient             at JS = 0.8997\n",
      "P(collision)      at JS >= 0.85: 0.4227\n",
      "threshold:  0.905      b = 3 r = 11 k = 33\n"
     ]
    },
    {
     "data": {
      "image/png": "[encoded data removed]",
      "text/plain": [
       "<Figure size 432x288 with 2 Axes>"
      ]
     },
     "metadata": {
      "needs_background": "light"
     },
     "output_type": "display_data"
    }
   ],
   "source": [
    "rbvals085 = [(11,3),(13,8),(25,60)]\n",
    "# 6,3 gives 0.3 hrs\n",
    "# r=13, b=8 is better than r=25, b=60, but still too many calculations (104 hashes per set)\n",
    "def fn(x):\n",
    "    return 1-(1-x**r)**b\n",
    "\n",
    "with open('sample.txt','r') as sample_fp:\n",
    "    sample = [parsed(line) for line in sample_fp]\n",
    "    \n",
    "r,b=rbvals085[0]\n",
    "k=r*b\n",
    "x = np.linspace(0,1); f = fn(x); \n",
    "x_ = ((r-1)/(b*r-1))**(1/r)\n",
    "\n",
    "print('max gradient             at JS =',round(x_,4))\n",
    "print('P(collision)      at JS >= 0.85:',round(fn(0.85),4))\n",
    "print('threshold: ',round((1/b)**(b/k),3), '     b =',b,'r =',r,'k =',k)\n",
    "\n",
    "fig, ax1 = plt.subplots()\n",
    "plt.title('r=%d,b=%d' % (r,b))\n",
    "\n",
    "\n",
    "ax1.plot(np.linspace(0,1,sample_size), sample_similarities, 'b.')\n",
    "ax1.set_ylabel('n', color='b')\n",
    "ax1.tick_params('y', colors='b')\n",
    "plt.xlabel('Jaccard Similarity')\n",
    "\n",
    "ax2 = ax1.twinx()\n",
    "ax2.plot(x, f, 'r-',x_,(1-(1-x_**r)**b),'g.',0.85,fn(0.85),'b.')\n",
    "ax2.set_ylabel('P(collision)', color='r')\n",
    "ax2.tick_params('y', colors='r')\n",
    "\n",
    "fig.tight_layout()\n",
    "plt.show()"
   ]
  },
  {
   "cell_type": "code",
   "execution_count": 9,
   "metadata": {},
   "outputs": [],
   "source": [
    "signatures = convert_to_signatures('data.txt',r,b)\n",
    "collisions = compare_bands(signatures,b)\n",
    "print(\"number of collisions:\",len(collisions))\n",
    "true_cols = confirm_js(collisions)\n",
    "print(\"number of similar sets:\",len(true_cols))\n",
    "for item in true_cols:\n",
    "    print(item[0][1],item[1][1], round(js(item[0][0],item[1][0]),3))"
   ]
  }
 ],
 "metadata": {
  "kernelspec": {
   "display_name": "Python 3",
   "language": "python",
   "name": "python3"
  },
  "language_info": {
   "codemirror_mode": {
    "name": "ipython",
    "version": 3
   },
   "file_extension": ".py",
   "mimetype": "text/x-python",
   "name": "python",
   "nbconvert_exporter": "python",
   "pygments_lexer": "ipython3",
   "version": "3.7.1"
  }
 },
 "nbformat": 4,
 "nbformat_minor": 2
}
